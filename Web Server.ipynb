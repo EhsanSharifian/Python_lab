{
 "cells": [
  {
   "cell_type": "code",
   "execution_count": 2,
   "metadata": {},
   "outputs": [
    {
     "name": "stdout",
     "output_type": "stream",
     "text": [
      "Json Object: {\"Name\": \"Rouzbeh Ghaderi\", \"SID\": \"95109156\"}\n",
      "Original Format: {'Name': 'Rouzbeh Ghaderi', 'SID': '95109156'}\n"
     ]
    }
   ],
   "source": [
    "#Part 2 - 1\n",
    "\n",
    "import json\n",
    "dictionary = {'Name' : 'Rouzbeh Ghaderi' , 'SID' : '95109156'}\n",
    "JSON = json.dumps(dictionary)\n",
    "print(\"Json Object:\" , JSON)\n",
    "#print(JSON[2])\n",
    "LOADS = json.loads(JSON)\n",
    "print(\"Original Format:\" , LOADS)\n",
    "#print(LOADS['SID'])\n"
   ]
  },
  {
   "cell_type": "code",
   "execution_count": 4,
   "metadata": {},
   "outputs": [
    {
     "name": "stdout",
     "output_type": "stream",
     "text": [
      "200\n",
      "{\"success\":true,\"data\":{\"name\":\"Rouzbeh\"},\"id\":\"609b290fe0aabd6e191c415b\"}\n",
      "200\n",
      "{\"message\":\"Welcome to JSONbin.io API. Refer to https://jsonbin.io/api-reference for more info.\"}\n"
     ]
    }
   ],
   "source": [
    "#Part 2 - 2\n",
    "\n",
    "import requests\n",
    "import json\n",
    "\n",
    "data = {\"name\": \"Rouzbeh\"}\n",
    "JSON = json.dumps(data)\n",
    "url = 'https://api.jsonbin.io/c'\n",
    "headers = {'Content-Type': 'application/json' , 'secret-key': '$2b$10$F8JcKUfCh4Pg4aRKDp7hhu9Itqm5DRKGLg9jwE13owpBdFuz4ltP6'}\n",
    "\n",
    "req = requests.post(url, data=JSON, headers=headers)\n",
    "print(req.status_code)\n",
    "print(req.text)\n",
    "\n",
    "get = requests.get('https://api.jsonbin.io')\n",
    "print(get.status_code)\n",
    "print(get.text)"
   ]
  },
  {
   "cell_type": "code",
   "execution_count": null,
   "metadata": {},
   "outputs": [],
   "source": []
  }
 ],
 "metadata": {
  "kernelspec": {
   "display_name": "Python 3",
   "language": "python",
   "name": "python3"
  },
  "language_info": {
   "codemirror_mode": {
    "name": "ipython",
    "version": 3
   },
   "file_extension": ".py",
   "mimetype": "text/x-python",
   "name": "python",
   "nbconvert_exporter": "python",
   "pygments_lexer": "ipython3",
   "version": "3.7.4"
  }
 },
 "nbformat": 4,
 "nbformat_minor": 2
}
