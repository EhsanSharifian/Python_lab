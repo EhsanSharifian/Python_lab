{
 "cells": [
  {
   "cell_type": "code",
   "execution_count": 2,
   "metadata": {},
   "outputs": [
    {
     "name": "stdout",
     "output_type": "stream",
     "text": [
      "Client Disconnected.\n"
     ]
    }
   ],
   "source": [
    "#Part 1 - 1\n",
    "\n",
    "import socket\n",
    "\n",
    "server = socket.socket()\n",
    "\n",
    "server.bind(('localhost', 6004))\n",
    "server.listen(1)\n",
    "connection , address = server.accept()\n",
    "\n",
    "connection.send('Welcome! I am SERVER.'.encode('utf-8'))\n",
    "connection.close()\n",
    "print('Client Disconnected.')\n",
    "server.close()"
   ]
  },
  {
   "cell_type": "code",
   "execution_count": 2,
   "metadata": {},
   "outputs": [
    {
     "name": "stdout",
     "output_type": "stream",
     "text": [
      "Client Disconnected\n"
     ]
    }
   ],
   "source": [
    "#Part 1 - 2\n",
    "\n",
    "import socket\n",
    "\n",
    "server = socket.socket()\n",
    "\n",
    "server.bind(('localhost', 6004))\n",
    "server.listen(1)\n",
    "connection , address = server.accept()\n",
    "\n",
    "file = open('P12.txt' , 'r')\n",
    "string = file.read().encode('utf-8')\n",
    "file.close\n",
    "\n",
    "connection.send(string)\n",
    "connection.close()\n",
    "print('Client Disconnected')\n",
    "server.close()"
   ]
  },
  {
   "cell_type": "code",
   "execution_count": null,
   "metadata": {},
   "outputs": [
    {
     "name": "stdout",
     "output_type": "stream",
     "text": [
      "[STARTING] Server is starting...\n",
      "[LISTENING] Server is listening on localhost\n",
      "[NEW CONNECTION] ('127.0.0.1', 14676) connected. [ACTIVE CONNECTIONS] 1\n",
      "\n",
      "[NEW CONNECTION] ('127.0.0.1', 14679) connected. [ACTIVE CONNECTIONS] 2\n",
      "\n",
      "[('127.0.0.1', 14679)] !Disconnect\n",
      "[('127.0.0.1', 14676)] !Disconnect\n"
     ]
    }
   ],
   "source": [
    "#Part 1 - 3\n",
    "\n",
    "import socket \n",
    "import threading\n",
    "\n",
    "PORT = 5000\n",
    "SERVER = 'localhost'\n",
    "ADDR = (SERVER, PORT)\n",
    "FORMAT = 'utf-8'\n",
    "DISCONNECT_MESSAGE = \"!Disconnect\"\n",
    "\n",
    "server = socket.socket()\n",
    "server.bind(ADDR)\n",
    "\n",
    "def handle_client(conn, addr):\n",
    "    print(f\"[NEW CONNECTION] {addr} connected. \")\n",
    "\n",
    "    connected = True\n",
    "    while connected:\n",
    "        msg = conn.recv(1024).decode(FORMAT)\n",
    "        if msg == DISCONNECT_MESSAGE:\n",
    "            connected = False\n",
    "            print(f\"[{addr}] {msg}\")\n",
    "        elif msg == \"data1.txt\":\n",
    "            file = open('data1.txt' , 'r')\n",
    "            string = file.read().encode(FORMAT)\n",
    "            file.close()\n",
    "            conn.send(string)\n",
    "            print(f\"[{addr}] {msg}\")\n",
    "        elif msg == \"data2.txt\":\n",
    "            file = open('data2.txt' , 'r')\n",
    "            string = file.read().encode(FORMAT)\n",
    "            file.close()\n",
    "            conn.send(string)\n",
    "            print(f\"[{addr}] {msg}\")\n",
    "        else:\n",
    "            conn.send('NOT Exist.'.encode(FORMAT))\n",
    "            print(f\"[{addr}] {msg}\")\n",
    "\n",
    "    conn.close()\n",
    "    \n",
    "    \n",
    "        \n",
    "\n",
    "def start():\n",
    "    server.listen(1)\n",
    "    print(f\"[LISTENING] Server is listening on {SERVER}\")\n",
    "    while True:\n",
    "        conn, addr = server.accept()\n",
    "        thread = threading.Thread(target=handle_client, args=(conn, addr))\n",
    "        thread.start()\n",
    "        print(f\"[ACTIVE CONNECTIONS] {threading.activeCount() - 5}\")\n",
    "\n",
    "\n",
    "print(\"[STARTING] Server is starting...\")\n",
    "start()"
   ]
  },
  {
   "cell_type": "code",
   "execution_count": null,
   "metadata": {},
   "outputs": [],
   "source": []
  }
 ],
 "metadata": {
  "kernelspec": {
   "display_name": "Python 3",
   "language": "python",
   "name": "python3"
  },
  "language_info": {
   "codemirror_mode": {
    "name": "ipython",
    "version": 3
   },
   "file_extension": ".py",
   "mimetype": "text/x-python",
   "name": "python",
   "nbconvert_exporter": "python",
   "pygments_lexer": "ipython3",
   "version": "3.7.4"
  }
 },
 "nbformat": 4,
 "nbformat_minor": 2
}
