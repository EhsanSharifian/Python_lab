{
 "cells": [
  {
   "cell_type": "code",
   "execution_count": 4,
   "metadata": {},
   "outputs": [
    {
     "name": "stdout",
     "output_type": "stream",
     "text": [
      "Which file do you consider? !Disconnect\n",
      "\n"
     ]
    }
   ],
   "source": [
    "#Part 1 - 3\n",
    "\n",
    "import socket\n",
    "\n",
    "HEADER = 64\n",
    "PORT = 5000\n",
    "FORMAT = 'utf-8'\n",
    "SERVER = \"localhost\"\n",
    "DISCONNECT_MESSAGE = \"!Disconnect\"\n",
    "ADDR = (SERVER, PORT)\n",
    "\n",
    "client = socket.socket()\n",
    "client.connect(ADDR)\n",
    "\n",
    "def send(msg):\n",
    "    message = msg.encode(FORMAT)\n",
    "    client.send(message)\n",
    "    print(client.recv(1024).decode(FORMAT))\n",
    "\n",
    "sm = True\n",
    "while sm:\n",
    "    TheFile = input('Which file do you consider? ')\n",
    "    send(TheFile)\n",
    "    if TheFile == DISCONNECT_MESSAGE:\n",
    "        sm = False\n",
    "client.close()"
   ]
  },
  {
   "cell_type": "code",
   "execution_count": null,
   "metadata": {},
   "outputs": [],
   "source": []
  }
 ],
 "metadata": {
  "kernelspec": {
   "display_name": "Python 3",
   "language": "python",
   "name": "python3"
  },
  "language_info": {
   "codemirror_mode": {
    "name": "ipython",
    "version": 3
   },
   "file_extension": ".py",
   "mimetype": "text/x-python",
   "name": "python",
   "nbconvert_exporter": "python",
   "pygments_lexer": "ipython3",
   "version": "3.7.4"
  }
 },
 "nbformat": 4,
 "nbformat_minor": 2
}
