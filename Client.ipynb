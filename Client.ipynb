{
 "cells": [
  {
   "cell_type": "code",
   "execution_count": 2,
   "metadata": {},
   "outputs": [
    {
     "name": "stdout",
     "output_type": "stream",
     "text": [
      "Which image do you consider? picture1.jpg\n",
      "Face Detected.\n",
      "Which image do you consider? picture2.jpg\n",
      "NO Face.\n",
      "Which image do you consider? picture3.jpg\n",
      "Face Detected.\n",
      "Which image do you consider? picture4.jpg\n",
      "Face Detected.\n",
      "Which image do you consider? picture5.jpg\n",
      "Face Detected.\n",
      "Which image do you consider? picture6.jpg\n",
      "Face Detected.\n",
      "Which image do you consider? picture7.jpg\n",
      "NO Face.\n",
      "Which image do you consider? picture8.jpg\n",
      "NO Face.\n",
      "Which image do you consider? picture9.jpg\n",
      "NO Face.\n",
      "Which image do you consider? picture10.jpg\n",
      "NO Face.\n",
      "Which image do you consider? picture11.jpg\n",
      "NOT Exist.\n",
      "Which image do you consider? !Disconnect\n",
      "\n"
     ]
    }
   ],
   "source": [
    "##Project\n",
    "#Client\n",
    "\n",
    "import socket\n",
    "\n",
    "HEADER = 64\n",
    "PORT = 5000\n",
    "FORMAT = 'utf-8'\n",
    "SERVER = \"localhost\"\n",
    "DISCONNECT_MESSAGE = \"!Disconnect\"\n",
    "ADDR = (SERVER, PORT)\n",
    "\n",
    "client = socket.socket()\n",
    "client.connect(ADDR)\n",
    "\n",
    "def send(msg):\n",
    "    message = msg.encode(FORMAT)\n",
    "    client.send(message)\n",
    "    print(client.recv(1024).decode(FORMAT))\n",
    "\n",
    "sm = True\n",
    "while sm:\n",
    "    TheImage = input('Which image do you consider? ')\n",
    "    send(TheImage)\n",
    "    if TheImage == DISCONNECT_MESSAGE:\n",
    "        sm = False\n",
    "client.close()"
   ]
  },
  {
   "cell_type": "code",
   "execution_count": null,
   "metadata": {},
   "outputs": [],
   "source": []
  },
  {
   "cell_type": "code",
   "execution_count": null,
   "metadata": {},
   "outputs": [],
   "source": []
  }
 ],
 "metadata": {
  "kernelspec": {
   "display_name": "Python 3",
   "language": "python",
   "name": "python3"
  },
  "language_info": {
   "codemirror_mode": {
    "name": "ipython",
    "version": 3
   },
   "file_extension": ".py",
   "mimetype": "text/x-python",
   "name": "python",
   "nbconvert_exporter": "python",
   "pygments_lexer": "ipython3",
   "version": "3.7.4"
  }
 },
 "nbformat": 4,
 "nbformat_minor": 2
}
